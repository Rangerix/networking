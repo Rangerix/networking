{
 "cells": [
  {
   "cell_type": "code",
   "execution_count": 7,
   "metadata": {},
   "outputs": [],
   "source": [
    "def receivedata(receivedframes):\n",
    "    check=0\n",
    "    for i in receivedframes:\n",
    "        val=i.count('1')\n",
    "        if val%2 == 1:\n",
    "            print(\"error : \",i)\n"
   ]
  },
  {
   "cell_type": "code",
   "execution_count": 8,
   "metadata": {},
   "outputs": [
    {
     "name": "stdout",
     "output_type": "stream",
     "text": [
      "error :  11010\n",
      "None\n"
     ]
    }
   ],
   "source": [
    "print(receivedata([\"11010\"]))"
   ]
  },
  {
   "cell_type": "code",
   "execution_count": 8,
   "metadata": {},
   "outputs": [],
   "source": [
    "def myxor(a,b):\n",
    "\tl=len(b)\n",
    "\txor=[]\n",
    "\tfor i in range(l):\n",
    "\t\tif a[i]==b[i]:\n",
    "\t\t\txor.append(\"0\")\n",
    "\t\telse:\n",
    "\t\t\txor.append(\"1\")\n",
    "\txor=\"\".join(xor)\n",
    "\treturn xor"
   ]
  },
  {
   "cell_type": "code",
   "execution_count": 10,
   "metadata": {},
   "outputs": [
    {
     "name": "stdout",
     "output_type": "stream",
     "text": [
      "1100\n"
     ]
    }
   ],
   "source": [
    "print(myxor(\"1101\",\"0001\"))"
   ]
  },
  {
   "cell_type": "code",
   "execution_count": 11,
   "metadata": {},
   "outputs": [
    {
     "name": "stdout",
     "output_type": "stream",
     "text": [
      "1011000\n"
     ]
    }
   ],
   "source": [
    "val=\"1011\"\n",
    "val=val+\"0\"*3\n",
    "print(val)"
   ]
  },
  {
   "cell_type": "code",
   "execution_count": 9,
   "metadata": {},
   "outputs": [],
   "source": [
    "def myxor(a,b):\n",
    "\tl=len(b)\n",
    "\txor=[]\n",
    "\tfor i in range(1,l):\n",
    "\t\tprint(\"i = \",i)\n",
    "\t\tif a[i]==b[i]:\n",
    "\t\t\txor.append(\"0\")\n",
    "\t\telse:\n",
    "\t\t\txor.append(\"1\")\n",
    "\txor=\"\".join(xor)\n",
    "\treturn xor\n",
    "\n",
    "#==============================================\n",
    "def division(dividend,divisor):\n",
    "\tpick=len(divisor)\n",
    "\ttmp=dividend[0:pick]\n",
    "\twhile pick<len(dividend):\n",
    "\t\tif tmp[0]=='1' :\n",
    "\t\t\ttmp=myxor(divisor,tmp)+dividend[pick]\n",
    "\t\telse:\n",
    "\t\t\ttmp=myxor(\"0\"*pick,tmp)+dividend[pick]\n",
    "\t\tpick+=1\n",
    "\tif tmp[0]=='1':\n",
    "\t\ttmp=myxor(divisor,tmp)\n",
    "\telse:\n",
    "\t\ttmp=myxor(\"0\"*pick,tmp)\n",
    "\treturn tmp\n",
    "\n",
    "#==============================================\n",
    "def encode(dataword,divisor):\n",
    "\tl=len(divisor)\n",
    "\tappendeddata=dataword+\"0\"*(l-1)\n",
    "\tremainder=division(appendeddata,divisor)\n",
    "\tprint(\"remainder : \",remainder)\n",
    "\tcodeword=dataword+remainder\n",
    "\treturn codeword\n"
   ]
  },
  {
   "cell_type": "code",
   "execution_count": 10,
   "metadata": {},
   "outputs": [
    {
     "name": "stdout",
     "output_type": "stream",
     "text": [
      "i =  1\n",
      "i =  2\n",
      "i =  3\n",
      "i =  1\n",
      "i =  2\n",
      "i =  3\n",
      "i =  1\n",
      "i =  2\n",
      "i =  3\n",
      "i =  1\n",
      "i =  2\n",
      "i =  3\n",
      "remainder :  111\n",
      "1111111\n"
     ]
    }
   ],
   "source": [
    "print(encode(\"1111\",\"1101\"))"
   ]
  },
  {
   "cell_type": "code",
   "execution_count": null,
   "metadata": {},
   "outputs": [],
   "source": []
  }
 ],
 "metadata": {
  "kernelspec": {
   "display_name": "Python 3",
   "language": "python",
   "name": "python3"
  },
  "language_info": {
   "codemirror_mode": {
    "name": "ipython",
    "version": 3
   },
   "file_extension": ".py",
   "mimetype": "text/x-python",
   "name": "python",
   "nbconvert_exporter": "python",
   "pygments_lexer": "ipython3",
   "version": "3.5.2"
  }
 },
 "nbformat": 4,
 "nbformat_minor": 2
}
